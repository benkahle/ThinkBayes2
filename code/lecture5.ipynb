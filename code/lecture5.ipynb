{
 "metadata": {
  "name": "",
  "signature": "sha256:ddb13ea8de68a398ec3379bb263647aa45cee5574672dc17be4c6bd94f98f11b"
 },
 "nbformat": 3,
 "nbformat_minor": 0,
 "worksheets": [
  {
   "cells": [
    {
     "cell_type": "code",
     "collapsed": false,
     "input": [
      "import thinkbayes2"
     ],
     "language": "python",
     "metadata": {},
     "outputs": [],
     "prompt_number": 1
    },
    {
     "cell_type": "code",
     "collapsed": false,
     "input": [
      "def pmfProduct(self, other):\n",
      "    pmf = Pmf()\n",
      "    for v1, p1 in self.Items():\n",
      "        for v2, p2 in orther.Items():\n",
      "            pmf.Incr(v1*v2,p1*p2)\n",
      "    return pmf"
     ],
     "language": "python",
     "metadata": {},
     "outputs": [],
     "prompt_number": 2
    },
    {
     "cell_type": "code",
     "collapsed": false,
     "input": [
      "pmfx = MakeNormalPmf(173,7.3,3)\n",
      "pmfy = MakeNormalPmf(178,7.8,3)"
     ],
     "language": "python",
     "metadata": {},
     "outputs": [],
     "prompt_number": 11
    },
    {
     "cell_type": "code",
     "collapsed": false,
     "input": [
      "from thinkbayes2 import Pmf"
     ],
     "language": "python",
     "metadata": {},
     "outputs": [],
     "prompt_number": 5
    },
    {
     "cell_type": "code",
     "collapsed": false,
     "input": [
      "from thinkbayes2 import *"
     ],
     "language": "python",
     "metadata": {},
     "outputs": [],
     "prompt_number": 9
    },
    {
     "cell_type": "code",
     "collapsed": false,
     "input": [
      "import thinkplot"
     ],
     "language": "python",
     "metadata": {},
     "outputs": [],
     "prompt_number": 12
    },
    {
     "cell_type": "code",
     "collapsed": false,
     "input": [
      "thinkplot.pmfs([pmfx,pmfy])"
     ],
     "language": "python",
     "metadata": {},
     "outputs": [
      {
       "metadata": {},
       "output_type": "display_data",
       "png": "[encoded data removed]",
       "text": [
        "<matplotlib.figure.Figure at 0x10fd15550>"
       ]
      }
     ],
     "prompt_number": 13
    },
    {
     "cell_type": "code",
     "collapsed": false,
     "input": [
      "def PmfProbSumGreater(pmf1, pmf2, pmf3):\n",
      "    pmf4 = pmf1+pmf2\n",
      "    p = pmf4.ProbGreater(pmf3)\n",
      "    #thinkplot.Cdfs([pmf3.MakeCdf(), pmf4.MakeCdf()])\n",
      "    return p"
     ],
     "language": "python",
     "metadata": {},
     "outputs": []
    },
    {
     "cell_type": "code",
     "collapsed": false,
     "input": [
      "PmfProbSumGreater(pmfx,pmfy,pmfx)\n",
      "thinkplot.Pmf(pmfx)"
     ],
     "language": "python",
     "metadata": {},
     "outputs": []
    },
    {
     "cell_type": "code",
     "collapsed": false,
     "input": [],
     "language": "python",
     "metadata": {},
     "outputs": []
    },
    {
     "cell_type": "code",
     "collapsed": false,
     "input": [],
     "language": "python",
     "metadata": {},
     "outputs": []
    }
   ],
   "metadata": {}
  }
 ]
}